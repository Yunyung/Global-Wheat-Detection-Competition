{
 "cells": [
  {
   "cell_type": "code",
   "execution_count": 1,
   "metadata": {
    "_cell_guid": "b1076dfc-b9ad-4769-8c92-a6c4dae69d19",
    "_uuid": "8f2839f25d086af736a60e9eeb907d3b93b6e0e5",
    "execution": {
     "iopub.execute_input": "2020-12-29T17:49:20.216468Z",
     "iopub.status.busy": "2020-12-29T17:49:20.215662Z",
     "iopub.status.idle": "2020-12-29T17:49:22.309240Z",
     "shell.execute_reply": "2020-12-29T17:49:22.308500Z"
    },
    "papermill": {
     "duration": 2.114574,
     "end_time": "2020-12-29T17:49:22.309355",
     "exception": false,
     "start_time": "2020-12-29T17:49:20.194781",
     "status": "completed"
    },
    "tags": []
   },
   "outputs": [],
   "source": [
    "import numpy as np # linear algebra\n",
    "import pandas as pd # data processing, CSV file I/O (e.g. pd.read_csv)\n",
    "import os\n",
    "from tqdm.auto import tqdm\n",
    "import shutil as sh\n",
    "import torch\n",
    "import seaborn as sns\n",
    "import matplotlib.pyplot as plt"
   ]
  },
  {
   "cell_type": "code",
   "execution_count": 2,
   "metadata": {
    "_cell_guid": "79c7e3d0-c299-4dcb-8224-4455121ee9b0",
    "_uuid": "d629ff2d2480ee46fbb7e2d37f6b5fab8052498a",
    "execution": {
     "iopub.execute_input": "2020-12-29T17:49:22.351284Z",
     "iopub.status.busy": "2020-12-29T17:49:22.338747Z",
     "iopub.status.idle": "2020-12-29T17:49:23.205245Z",
     "shell.execute_reply": "2020-12-29T17:49:23.205908Z"
    },
    "papermill": {
     "duration": 0.883652,
     "end_time": "2020-12-29T17:49:23.206063",
     "exception": false,
     "start_time": "2020-12-29T17:49:22.322411",
     "status": "completed"
    },
    "tags": []
   },
   "outputs": [],
   "source": [
    "!cp -r ../input/yolov5/* ."
   ]
  },
  {
   "cell_type": "code",
   "execution_count": 3,
   "metadata": {
    "execution": {
     "iopub.execute_input": "2020-12-29T17:49:23.237416Z",
     "iopub.status.busy": "2020-12-29T17:49:23.236604Z",
     "iopub.status.idle": "2020-12-29T17:49:48.045143Z",
     "shell.execute_reply": "2020-12-29T17:49:48.044469Z"
    },
    "papermill": {
     "duration": 24.826269,
     "end_time": "2020-12-29T17:49:48.045280",
     "exception": false,
     "start_time": "2020-12-29T17:49:23.219011",
     "status": "completed"
    },
    "tags": []
   },
   "outputs": [],
   "source": [
    "!pip install --no-deps '../input/weightedboxesfusion/' > /dev/null"
   ]
  },
  {
   "cell_type": "code",
   "execution_count": 4,
   "metadata": {
    "execution": {
     "iopub.execute_input": "2020-12-29T17:49:48.087425Z",
     "iopub.status.busy": "2020-12-29T17:49:48.086729Z",
     "iopub.status.idle": "2020-12-29T17:49:51.743942Z",
     "shell.execute_reply": "2020-12-29T17:49:51.743030Z"
    },
    "papermill": {
     "duration": 3.682411,
     "end_time": "2020-12-29T17:49:51.744073",
     "exception": false,
     "start_time": "2020-12-29T17:49:48.061662",
     "status": "completed"
    },
    "tags": []
   },
   "outputs": [
    {
     "name": "stdout",
     "output_type": "stream",
     "text": [
      "Found existing installation: wandb 0.10.12\r\n",
      "Uninstalling wandb-0.10.12:\r\n",
      "  Successfully uninstalled wandb-0.10.12\r\n"
     ]
    }
   ],
   "source": [
    "# From official yolov5 :  https://www.kaggle.com/ultralytics/yolov5-ultralytics\n",
    "!pip uninstall -y wandb  # open wandb bugs "
   ]
  },
  {
   "cell_type": "code",
   "execution_count": 5,
   "metadata": {
    "execution": {
     "iopub.execute_input": "2020-12-29T17:49:51.882016Z",
     "iopub.status.busy": "2020-12-29T17:49:51.880712Z",
     "iopub.status.idle": "2020-12-29T17:49:51.884311Z",
     "shell.execute_reply": "2020-12-29T17:49:51.883829Z"
    },
    "papermill": {
     "duration": 0.125713,
     "end_time": "2020-12-29T17:49:51.884417",
     "exception": false,
     "start_time": "2020-12-29T17:49:51.758704",
     "status": "completed"
    },
    "tags": []
   },
   "outputs": [],
   "source": [
    "def convertTrainLabel():\n",
    "    df = pd.read_csv('../input/global-wheat-detection/train.csv')\n",
    "    bboxs = np.stack(df['bbox'].apply(lambda x: np.fromstring(x[1:-1], sep=',')))\n",
    "    for i, column in enumerate(['x', 'y', 'w', 'h']):\n",
    "        df[column] = bboxs[:,i]\n",
    "    df.drop(columns=['bbox'], inplace=True)\n",
    "    df['x_center'] = df['x'] + df['w']/2\n",
    "    df['y_center'] = df['y'] + df['h']/2\n",
    "    df['classes'] = 0\n",
    "    \n",
    "    df['area'] = df['w'] * df['h']\n",
    "    df_clean = df[df['area']>300]\n",
    "    df_clean = df_clean[df['w']>10]\n",
    "    df_clean = df_clean[df['h']>10]\n",
    "    df_clean = df_clean.drop([173,2169,118211,52868,117344,3687,2159,121633,113947])\n",
    "    \n",
    "    from tqdm.auto import tqdm\n",
    "    import shutil as sh\n",
    "    df_clean = df_clean[['image_id','x', 'y', 'w', 'h','x_center','y_center','classes']]\n",
    "    \n",
    "    \n",
    "\n",
    "    index = list(sorted(df_clean.image_id))\n",
    "    \n",
    "    source = 'train'\n",
    "    if True:\n",
    "        for fold in [0]:\n",
    "            val_index = index[len(index)*fold//5:len(index)*(fold+1)//5]\n",
    "            for name,mini in tqdm(df_clean.groupby('image_id')):\n",
    "                if name in val_index:\n",
    "                    path2save = 'val2017/'\n",
    "                else:\n",
    "                    path2save = 'train2017/'\n",
    "                if not os.path.exists('convertor/fold{}/labels/'.format(fold)+path2save):\n",
    "                    os.makedirs('convertor/fold{}/labels/'.format(fold)+path2save)\n",
    "                with open('convertor/fold{}/labels/'.format(fold)+path2save+name+\".txt\", 'w+') as f:\n",
    "                    row = mini[['classes','x_center','y_center','w','h']].astype(float).values\n",
    "                    row = row/1024\n",
    "                    row = row.astype(str)\n",
    "                    for j in range(len(row)):\n",
    "                        text = ' '.join(row[j])\n",
    "                        f.write(text)\n",
    "                        f.write(\"\\n\")\n",
    "                if not os.path.exists('convertor/fold{}/images/{}'.format(fold,path2save)):\n",
    "                    os.makedirs('convertor/fold{}/images/{}'.format(fold,path2save))\n",
    "                sh.copy(\"../input/global-wheat-detection/{}/{}.jpg\".format(source,name),'convertor/fold{}/images/{}/{}.jpg'.format(fold,path2save,name))"
   ]
  },
  {
   "cell_type": "code",
   "execution_count": 6,
   "metadata": {
    "execution": {
     "iopub.execute_input": "2020-12-29T17:49:51.926018Z",
     "iopub.status.busy": "2020-12-29T17:49:51.920701Z",
     "iopub.status.idle": "2020-12-29T17:49:51.948720Z",
     "shell.execute_reply": "2020-12-29T17:49:51.948139Z"
    },
    "papermill": {
     "duration": 0.050271,
     "end_time": "2020-12-29T17:49:51.948833",
     "exception": false,
     "start_time": "2020-12-29T17:49:51.898562",
     "status": "completed"
    },
    "tags": []
   },
   "outputs": [],
   "source": [
    "from ensemble_boxes import *\n",
    "def run_wbf(boxes, scores, image_size=1023, iou_thr=0.5, skip_box_thr=0.7, weights=None):\n",
    "    #boxes = [prediction[image_index]['boxes'].data.cpu().numpy()/(image_size-1) for prediction in predictions]\n",
    "    #scores = [prediction[image_index]['scores'].data.cpu().numpy() for prediction in predictions]\n",
    "    labels = [np.zeros(score.shape[0]) for score in scores]\n",
    "    boxes = [box/(image_size) for box in boxes]\n",
    "    boxes, scores, labels = weighted_boxes_fusion(boxes, scores, labels, weights=None, iou_thr=iou_thr, skip_box_thr=skip_box_thr)\n",
    "    #boxes, scores, labels = nms(boxes, scores, labels, weights=[1,1,1,1,1], iou_thr=0.5)\n",
    "    boxes = boxes*(image_size)\n",
    "    return boxes, scores, labels\n",
    "\n",
    "def TTAImage(image, index):\n",
    "    image1 = image.copy()\n",
    "    if index==0: \n",
    "        rotated_image = cv2.rotate(image1, cv2.ROTATE_90_CLOCKWISE)\n",
    "        return rotated_image\n",
    "    elif index==1:\n",
    "        rotated_image2 = cv2.rotate(image1, cv2.ROTATE_90_CLOCKWISE)\n",
    "        rotated_image2 = cv2.rotate(rotated_image2, cv2.ROTATE_90_CLOCKWISE)\n",
    "        return rotated_image2\n",
    "    elif index==2:\n",
    "        rotated_image3 = cv2.rotate(image1, cv2.ROTATE_90_CLOCKWISE)\n",
    "        rotated_image3 = cv2.rotate(rotated_image3, cv2.ROTATE_90_CLOCKWISE)\n",
    "        rotated_image3 = cv2.rotate(rotated_image3, cv2.ROTATE_90_CLOCKWISE)\n",
    "        return rotated_image3\n",
    "    elif index == 3:\n",
    "        return image1\n",
    "    \n",
    "def rotBoxes90(boxes, im_w, im_h):\n",
    "    ret_boxes =[]\n",
    "    for box in boxes:\n",
    "        x1, y1, x2, y2 = box\n",
    "        x1, y1, x2, y2 = x1-im_w//2, im_h//2 - y1, x2-im_w//2, im_h//2 - y2\n",
    "        x1, y1, x2, y2 = y1, -x1, y2, -x2\n",
    "        x1, y1, x2, y2 = int(x1+im_w//2), int(im_h//2 - y1), int(x2+im_w//2), int(im_h//2 - y2)\n",
    "        x1a, y1a, x2a, y2a = min(x1, x2), min(y1, y2), max(x1, x2), max(y1, y2)\n",
    "        ret_boxes.append([x1a, y1a, x2a, y2a])\n",
    "    return np.array(ret_boxes)\n",
    "\n",
    "def detect1Image(im0, imgsz, model, device, conf_thres, iou_thres):\n",
    "    img = letterbox(im0, new_shape=imgsz)[0]\n",
    "    # Convert\n",
    "    img = img[:, :, ::-1].transpose(2, 0, 1)  # BGR to RGB, to 3x416x416\n",
    "    img = np.ascontiguousarray(img)\n",
    "\n",
    "\n",
    "    img = torch.from_numpy(img).to(device)\n",
    "    img =  img.float()  # uint8 to fp16/32\n",
    "    img /= 255.0   \n",
    "    if img.ndimension() == 3:\n",
    "        img = img.unsqueeze(0)\n",
    "\n",
    "    # Inference\n",
    "    pred = model(img, augment=False)[0]\n",
    "\n",
    "    # Apply NMS\n",
    "    pred = non_max_suppression(pred, conf_thres, iou_thres)\n",
    "\n",
    "    boxes = []\n",
    "    scores = []\n",
    "    for i, det in enumerate(pred):  # detections per image\n",
    "        # save_path = 'draw/' + image_id + '.jpg'\n",
    "        if det is not None and len(det):\n",
    "            # Rescale boxes from img_size to im0 size\n",
    "            det[:, :4] = scale_coords(img.shape[2:], det[:, :4], im0.shape).round()\n",
    "\n",
    "            # Write results\n",
    "            for *xyxy, conf, cls in det:\n",
    "                boxes.append([int(xyxy[0]), int(xyxy[1]), int(xyxy[2]), int(xyxy[3])])\n",
    "                scores.append(conf)\n",
    "\n",
    "    return np.array(boxes), np.array(scores) "
   ]
  },
  {
   "cell_type": "code",
   "execution_count": 7,
   "metadata": {
    "execution": {
     "iopub.execute_input": "2020-12-29T17:49:52.003798Z",
     "iopub.status.busy": "2020-12-29T17:49:51.991098Z",
     "iopub.status.idle": "2020-12-29T17:49:52.355946Z",
     "shell.execute_reply": "2020-12-29T17:49:52.355010Z"
    },
    "papermill": {
     "duration": 0.392413,
     "end_time": "2020-12-29T17:49:52.356063",
     "exception": false,
     "start_time": "2020-12-29T17:49:51.963650",
     "status": "completed"
    },
    "tags": []
   },
   "outputs": [],
   "source": [
    "from utils.datasets import *\n",
    "from utils.general import *\n",
    "\n",
    "def makePseudolabel():\n",
    "    source = '../input/global-wheat-detection/test/'\n",
    "    weights = './runs/train/exp/weights/best.pt'\n",
    "    if not os.path.exists(weights):\n",
    "        print(f'make pseudolabel {weights} path not exists. Using default .pt')\n",
    "        weights = '../input/yolov5-wheat/best.pt'\n",
    "        \n",
    "    imgsz = 1024\n",
    "    conf_thres = 0.5\n",
    "    iou_thres = 0.6\n",
    "    is_TTA = True\n",
    "    \n",
    "    imagenames =  os.listdir(source)\n",
    "    \n",
    "    device = torch.device('cuda') if torch.cuda.is_available() else torch.device('cpu')\n",
    "\n",
    "    # Load model\n",
    "    model = torch.load(weights, map_location=device)['model'].float()  # load to FP32\n",
    "    model.to(device).eval()\n",
    "    \n",
    "    dataset = LoadImages(source, img_size=imgsz)\n",
    "\n",
    "    path2save = 'train2017/'\n",
    "    if not os.path.exists('convertor/fold0/labels/'+path2save):\n",
    "        os.makedirs('convertor/fold0/labels/'+path2save)\n",
    "    if not os.path.exists('convertor/fold0/images/{}'.format(path2save)):\n",
    "        os.makedirs('convertor/fold0/images/{}'.format(path2save))\n",
    "            \n",
    "    for name in imagenames:\n",
    "        image_id = name.split('.')[0]\n",
    "        im01 = cv2.imread('%s/%s.jpg'%(source,image_id))  # BGR\n",
    "        if im01.shape[0]!=1024 or im01.shape[1]!=1024:\n",
    "            continue\n",
    "        assert im01 is not None, 'Image Not Found '\n",
    "        # Padded resize\n",
    "        im_w, im_h = im01.shape[:2]\n",
    "        if is_TTA:\n",
    "            enboxes = []\n",
    "            enscores = []\n",
    "            for i in range(4):\n",
    "                im0 = TTAImage(im01, i)\n",
    "                boxes, scores = detect1Image(im0, imgsz, model, device, conf_thres, iou_thres)\n",
    "                for _ in range(3-i):\n",
    "                    boxes = rotBoxes90(boxes, im_w, im_h)\n",
    "                    \n",
    "                enboxes.append(boxes)\n",
    "                enscores.append(scores) \n",
    "\n",
    "            boxes, scores, labels = run_wbf(enboxes, enscores, image_size = im_w, iou_thr=0.6, skip_box_thr=0.43)\n",
    "            boxes = boxes.astype(np.int32).clip(min=0, max=im_w)\n",
    "        else:\n",
    "            boxes, scores = detect1Image(im01, imgsz, model, device, conf_thres, iou_thres)\n",
    "\n",
    "        boxes[:, 2] = boxes[:, 2] - boxes[:, 0]\n",
    "        boxes[:, 3] = boxes[:, 3] - boxes[:, 1]\n",
    "        \n",
    "        boxes = boxes[scores >= 0.05].astype(np.int32)\n",
    "        scores = scores[scores >=float(0.05)]\n",
    "        \n",
    "        lineo = ''\n",
    "        for box in boxes:\n",
    "            x1, y1, w, h = box\n",
    "            xc, yc, w, h = (x1+w/2)/1024, (y1+h/2)/1024, w/1024, h/1024\n",
    "            lineo += '0 %f %f %f %f\\n'%(xc, yc, w, h)\n",
    "            \n",
    "        fileo = open('convertor/fold0/labels/'+path2save+image_id+\".txt\", 'w+')\n",
    "        fileo.write(lineo)\n",
    "        fileo.close()\n",
    "        sh.copy(\"../input/global-wheat-detection/test/{}.jpg\".format(image_id),'convertor/fold0/images/{}/{}.jpg'.format(path2save,image_id))"
   ]
  },
  {
   "cell_type": "code",
   "execution_count": 8,
   "metadata": {
    "execution": {
     "iopub.execute_input": "2020-12-29T17:49:52.393567Z",
     "iopub.status.busy": "2020-12-29T17:49:52.392454Z",
     "iopub.status.idle": "2020-12-29T17:49:52.395731Z",
     "shell.execute_reply": "2020-12-29T17:49:52.395096Z"
    },
    "papermill": {
     "duration": 0.025057,
     "end_time": "2020-12-29T17:49:52.395847",
     "exception": false,
     "start_time": "2020-12-29T17:49:52.370790",
     "status": "completed"
    },
    "tags": []
   },
   "outputs": [],
   "source": [
    "def format_prediction_string(boxes, scores):\n",
    "    pred_strings = []\n",
    "    for j in zip(scores, boxes):\n",
    "        pred_strings.append(\"{0:.4f} {1} {2} {3} {4}\".format(j[0], j[1][0], j[1][1], j[1][2], j[1][3]))\n",
    "\n",
    "    return \" \".join(pred_strings)"
   ]
  },
  {
   "cell_type": "code",
   "execution_count": 9,
   "metadata": {
    "execution": {
     "iopub.execute_input": "2020-12-29T17:49:52.456917Z",
     "iopub.status.busy": "2020-12-29T17:49:52.455001Z",
     "iopub.status.idle": "2020-12-29T17:49:52.457712Z",
     "shell.execute_reply": "2020-12-29T17:49:52.458208Z"
    },
    "papermill": {
     "duration": 0.047369,
     "end_time": "2020-12-29T17:49:52.458350",
     "exception": false,
     "start_time": "2020-12-29T17:49:52.410981",
     "status": "completed"
    },
    "tags": []
   },
   "outputs": [],
   "source": [
    "def detect():\n",
    "    source = '../input/global-wheat-detection/test/'\n",
    "    weights = './runs/train/exp2/weights/best.pt'\n",
    "    if not os.path.exists(weights):\n",
    "        print(f'{weights} path not exists. Using default .pt')\n",
    "        weights = '../input/yolov5-wheat/best.pt'\n",
    "    imgsz = 1024\n",
    "    conf_thres = 0.5\n",
    "    iou_thres = 0.6\n",
    "    is_TTA = True\n",
    "    \n",
    "    imagenames =  os.listdir(source)\n",
    "    \n",
    "    device = torch.device('cuda') if torch.cuda.is_available() else torch.device('cpu')\n",
    "\n",
    "    # Load model\n",
    "    model = torch.load(weights, map_location=device)['model'].float()  # load to FP32\n",
    "    model.to(device).eval()\n",
    "    \n",
    "    dataset = LoadImages(source, img_size=imgsz)\n",
    "\n",
    "    results = []\n",
    "    fig, ax = plt.subplots(5, 2, figsize=(30, 70))\n",
    "    count = 0\n",
    "    # img = torch.zeros((1, 3, imgsz, imgsz), device=device)  # init img\n",
    "    #for path, img, im0s, _ in dataset:\n",
    "    for name in imagenames:\n",
    "        image_id = name.split('.')[0]\n",
    "        im01 = cv2.imread('%s/%s.jpg'%(source,image_id))  # BGR\n",
    "        assert im01 is not None, 'Image Not Found '\n",
    "        # Padded resize\n",
    "        im_w, im_h = im01.shape[:2]\n",
    "        if is_TTA:\n",
    "            enboxes = []\n",
    "            enscores = []\n",
    "            for i in range(4):\n",
    "                im0 = TTAImage(im01, i)\n",
    "                boxes, scores = detect1Image(im0, imgsz, model, device, conf_thres, iou_thres)\n",
    "                for _ in range(3-i):\n",
    "                    boxes = rotBoxes90(boxes, im_w, im_h)\n",
    "                    \n",
    "                if 1: #i<3:\n",
    "                    enboxes.append(boxes)\n",
    "                    enscores.append(scores) \n",
    "            boxes, scores = detect1Image(im01, imgsz, model, device, conf_thres, iou_thres)\n",
    "            enboxes.append(boxes)\n",
    "            enscores.append(scores)\n",
    "\n",
    "            boxes, scores, labels = run_wbf(enboxes, enscores, image_size = im_w, iou_thr=0.6, skip_box_thr=0.5)\n",
    "            boxes = boxes.astype(np.int32).clip(min=0, max=im_w)\n",
    "        else:\n",
    "            boxes, scores = detect1Image(im01, imgsz, model, device, conf_thres, iou_thres)\n",
    "\n",
    "        boxes[:, 2] = boxes[:, 2] - boxes[:, 0]\n",
    "        boxes[:, 3] = boxes[:, 3] - boxes[:, 1]\n",
    "        \n",
    "        boxes = boxes[scores >= 0.05].astype(np.int32)\n",
    "        scores = scores[scores >=float(0.05)]\n",
    "        if count<10:\n",
    "            #sample = image.permute(1,2,0).cpu().numpy()\n",
    "            for box, score in zip(boxes,scores):\n",
    "                cv2.rectangle(im0,\n",
    "                              (box[0], box[1]),\n",
    "                              (box[2]+box[0], box[3]+box[1]),\n",
    "                              (220, 0, 0), 2)\n",
    "                cv2.putText(im0, '%.2f'%(score), (box[0], box[1]), cv2.FONT_HERSHEY_SIMPLEX ,  \n",
    "                   0.5, (255,255,255), 2, cv2.LINE_AA)\n",
    "            ax[count%5][count//5].imshow(im0)\n",
    "            count+=1\n",
    "            \n",
    "        result = {\n",
    "            'image_id': image_id,\n",
    "            'PredictionString': format_prediction_string(boxes, scores)\n",
    "        }\n",
    "\n",
    "        results.append(result)\n",
    "    return results"
   ]
  },
  {
   "cell_type": "code",
   "execution_count": 10,
   "metadata": {
    "execution": {
     "iopub.execute_input": "2020-12-29T17:49:52.501768Z",
     "iopub.status.busy": "2020-12-29T17:49:52.501054Z",
     "iopub.status.idle": "2020-12-29T17:50:54.466837Z",
     "shell.execute_reply": "2020-12-29T17:50:54.466298Z"
    },
    "papermill": {
     "duration": 61.993772,
     "end_time": "2020-12-29T17:50:54.466953",
     "exception": false,
     "start_time": "2020-12-29T17:49:52.473181",
     "status": "completed"
    },
    "tags": []
   },
   "outputs": [
    {
     "name": "stderr",
     "output_type": "stream",
     "text": [
      "/opt/conda/lib/python3.7/site-packages/ipykernel_launcher.py:13: UserWarning: Boolean Series key will be reindexed to match DataFrame index.\n",
      "  del sys.path[0]\n",
      "/opt/conda/lib/python3.7/site-packages/ipykernel_launcher.py:14: UserWarning: Boolean Series key will be reindexed to match DataFrame index.\n",
      "  \n"
     ]
    },
    {
     "data": {
      "application/vnd.jupyter.widget-view+json": {
       "model_id": "c924b66e140346829e6b67c8de8c06dc",
       "version_major": 2,
       "version_minor": 0
      },
      "text/plain": [
       "HBox(children=(FloatProgress(value=0.0, max=3373.0), HTML(value='')))"
      ]
     },
     "metadata": {},
     "output_type": "display_data"
    },
    {
     "name": "stdout",
     "output_type": "stream",
     "text": [
      "\n",
      "make pseudolabel ./runs/train/exp/weights/best.pt path not exists. Using default .pt\n",
      "Dockerfile\t    convertor\tmodels\t\t  train_on_kaggle.py\r\n",
      "LICENSE\t\t    data\trequirements.txt  tutorial.ipynb\r\n",
      "README.md\t    detect.py\ttest.py\t\t  utils\r\n",
      "__notebook__.ipynb  hubconf.py\ttrain.py\t  weights\r\n"
     ]
    }
   ],
   "source": [
    "# first stage Pseudo Labeling\n",
    "convertTrainLabel()\n",
    "makePseudolabel()\n",
    "!ls"
   ]
  },
  {
   "cell_type": "code",
   "execution_count": null,
   "metadata": {
    "papermill": {
     "duration": 0.015524,
     "end_time": "2020-12-29T17:50:54.498380",
     "exception": false,
     "start_time": "2020-12-29T17:50:54.482856",
     "status": "completed"
    },
    "tags": []
   },
   "outputs": [],
   "source": []
  },
  {
   "cell_type": "code",
   "execution_count": 11,
   "metadata": {
    "execution": {
     "iopub.execute_input": "2020-12-29T17:50:54.538884Z",
     "iopub.status.busy": "2020-12-29T17:50:54.538221Z",
     "iopub.status.idle": "2020-12-29T17:50:54.546018Z",
     "shell.execute_reply": "2020-12-29T17:50:54.545330Z"
    },
    "papermill": {
     "duration": 0.0319,
     "end_time": "2020-12-29T17:50:54.546136",
     "exception": false,
     "start_time": "2020-12-29T17:50:54.514236",
     "status": "completed"
    },
    "tags": []
   },
   "outputs": [
    {
     "name": "stdout",
     "output_type": "stream",
     "text": [
      "test img < 11\n"
     ]
    }
   ],
   "source": [
    "if len(os.listdir('../input/global-wheat-detection/test/'))<11:\n",
    "    print(\"test img < 11\")\n",
    "    pass\n",
    "else:\n",
    "    !python train_on_kaggle.py --img 1024 --batch 2 --epochs 8 --data ../input/configyolo5/wheat0_trainOnKaggle.yaml --cfg ../input/configyolo5/yolov5x.yaml  --hyp ../input/configyolo5/hyp.e1.yaml --weights ../input/yolov5-wheat/best.pt"
   ]
  },
  {
   "cell_type": "code",
   "execution_count": 12,
   "metadata": {
    "execution": {
     "iopub.execute_input": "2020-12-29T17:50:54.585270Z",
     "iopub.status.busy": "2020-12-29T17:50:54.584450Z",
     "iopub.status.idle": "2020-12-29T17:50:55.465832Z",
     "shell.execute_reply": "2020-12-29T17:50:55.464822Z"
    },
    "papermill": {
     "duration": 0.903029,
     "end_time": "2020-12-29T17:50:55.465960",
     "exception": false,
     "start_time": "2020-12-29T17:50:54.562931",
     "status": "completed"
    },
    "tags": []
   },
   "outputs": [],
   "source": [
    "!rm -rf convertor"
   ]
  },
  {
   "cell_type": "code",
   "execution_count": 13,
   "metadata": {
    "execution": {
     "iopub.execute_input": "2020-12-29T17:50:55.509414Z",
     "iopub.status.busy": "2020-12-29T17:50:55.508599Z",
     "iopub.status.idle": "2020-12-29T17:51:17.377088Z",
     "shell.execute_reply": "2020-12-29T17:51:17.376508Z"
    },
    "papermill": {
     "duration": 21.894059,
     "end_time": "2020-12-29T17:51:17.377209",
     "exception": false,
     "start_time": "2020-12-29T17:50:55.483150",
     "status": "completed"
    },
    "tags": []
   },
   "outputs": [
    {
     "name": "stderr",
     "output_type": "stream",
     "text": [
      "/opt/conda/lib/python3.7/site-packages/ipykernel_launcher.py:13: UserWarning: Boolean Series key will be reindexed to match DataFrame index.\n",
      "  del sys.path[0]\n",
      "/opt/conda/lib/python3.7/site-packages/ipykernel_launcher.py:14: UserWarning: Boolean Series key will be reindexed to match DataFrame index.\n",
      "  \n"
     ]
    },
    {
     "data": {
      "application/vnd.jupyter.widget-view+json": {
       "model_id": "469111b509f94387b926819b945becb6",
       "version_major": 2,
       "version_minor": 0
      },
      "text/plain": [
       "HBox(children=(FloatProgress(value=0.0, max=3373.0), HTML(value='')))"
      ]
     },
     "metadata": {},
     "output_type": "display_data"
    },
    {
     "name": "stdout",
     "output_type": "stream",
     "text": [
      "\n",
      "make pseudolabel ./runs/train/exp/weights/best.pt path not exists. Using default .pt\n",
      "Dockerfile\t    convertor\tmodels\t\t  train_on_kaggle.py\r\n",
      "LICENSE\t\t    data\trequirements.txt  tutorial.ipynb\r\n",
      "README.md\t    detect.py\ttest.py\t\t  utils\r\n",
      "__notebook__.ipynb  hubconf.py\ttrain.py\t  weights\r\n"
     ]
    }
   ],
   "source": [
    "# second stage Pseudo Labeling\n",
    "convertTrainLabel()\n",
    "makePseudolabel()\n",
    "!ls"
   ]
  },
  {
   "cell_type": "code",
   "execution_count": 14,
   "metadata": {
    "execution": {
     "iopub.execute_input": "2020-12-29T17:51:17.423568Z",
     "iopub.status.busy": "2020-12-29T17:51:17.422575Z",
     "iopub.status.idle": "2020-12-29T17:51:17.426900Z",
     "shell.execute_reply": "2020-12-29T17:51:17.427349Z"
    },
    "papermill": {
     "duration": 0.031633,
     "end_time": "2020-12-29T17:51:17.427483",
     "exception": false,
     "start_time": "2020-12-29T17:51:17.395850",
     "status": "completed"
    },
    "tags": []
   },
   "outputs": [
    {
     "name": "stdout",
     "output_type": "stream",
     "text": [
      "test img < 11\n"
     ]
    }
   ],
   "source": [
    "if len(os.listdir('../input/global-wheat-detection/test/'))<11:\n",
    "    print(\"test img < 11\")\n",
    "    pass\n",
    "else:\n",
    "    !python train_on_kaggle.py --img 1024 --batch 2 --epochs 6 --data ../input/configyolo5/wheat0_trainOnKaggle.yaml --cfg ../input/configyolo5/yolov5x.yaml  --hyp ../input/configyolo5/hyp.e1.yaml --weights ./runs/train/exp/weights/best.pt "
   ]
  },
  {
   "cell_type": "code",
   "execution_count": 15,
   "metadata": {
    "execution": {
     "iopub.execute_input": "2020-12-29T17:51:17.485226Z",
     "iopub.status.busy": "2020-12-29T17:51:17.482277Z",
     "iopub.status.idle": "2020-12-29T17:51:18.343627Z",
     "shell.execute_reply": "2020-12-29T17:51:18.343054Z"
    },
    "papermill": {
     "duration": 0.897596,
     "end_time": "2020-12-29T17:51:18.343780",
     "exception": false,
     "start_time": "2020-12-29T17:51:17.446184",
     "status": "completed"
    },
    "tags": []
   },
   "outputs": [],
   "source": [
    "!rm -rf convertor"
   ]
  },
  {
   "cell_type": "code",
   "execution_count": 16,
   "metadata": {
    "execution": {
     "iopub.execute_input": "2020-12-29T17:51:18.388870Z",
     "iopub.status.busy": "2020-12-29T17:51:18.388238Z",
     "iopub.status.idle": "2020-12-29T17:51:25.492961Z",
     "shell.execute_reply": "2020-12-29T17:51:25.492007Z"
    },
    "papermill": {
     "duration": 7.129841,
     "end_time": "2020-12-29T17:51:25.493081",
     "exception": false,
     "start_time": "2020-12-29T17:51:18.363240",
     "status": "completed"
    },
    "tags": []
   },
   "outputs": [
    {
     "name": "stdout",
     "output_type": "stream",
     "text": [
      "./runs/train/exp2/weights/best.pt path not exists. Using default .pt\n"
     ]
    },
    {
     "data": {
      "text/html": [
       "<div>\n",
       "<style scoped>\n",
       "    .dataframe tbody tr th:only-of-type {\n",
       "        vertical-align: middle;\n",
       "    }\n",
       "\n",
       "    .dataframe tbody tr th {\n",
       "        vertical-align: top;\n",
       "    }\n",
       "\n",
       "    .dataframe thead th {\n",
       "        text-align: right;\n",
       "    }\n",
       "</style>\n",
       "<table border=\"1\" class=\"dataframe\">\n",
       "  <thead>\n",
       "    <tr style=\"text-align: right;\">\n",
       "      <th></th>\n",
       "      <th>image_id</th>\n",
       "      <th>PredictionString</th>\n",
       "    </tr>\n",
       "  </thead>\n",
       "  <tbody>\n",
       "    <tr>\n",
       "      <th>0</th>\n",
       "      <td>796707dd7</td>\n",
       "      <td>0.7859 896 331 112 92 0.7574 617 38 83 74 0.75...</td>\n",
       "    </tr>\n",
       "    <tr>\n",
       "      <th>1</th>\n",
       "      <td>2fd875eaa</td>\n",
       "      <td>0.8632 393 794 72 89 0.8632 0 911 103 80 0.855...</td>\n",
       "    </tr>\n",
       "    <tr>\n",
       "      <th>2</th>\n",
       "      <td>cc3532ff6</td>\n",
       "      <td>0.8349 770 826 165 163 0.8285 910 123 113 96 0...</td>\n",
       "    </tr>\n",
       "    <tr>\n",
       "      <th>3</th>\n",
       "      <td>53f253011</td>\n",
       "      <td>0.8218 15 33 143 108 0.8100 931 200 92 135 0.8...</td>\n",
       "    </tr>\n",
       "    <tr>\n",
       "      <th>4</th>\n",
       "      <td>f5a1f0358</td>\n",
       "      <td>0.8232 942 432 81 186 0.7988 687 204 114 93 0....</td>\n",
       "    </tr>\n",
       "  </tbody>\n",
       "</table>\n",
       "</div>"
      ],
      "text/plain": [
       "    image_id                                   PredictionString\n",
       "0  796707dd7  0.7859 896 331 112 92 0.7574 617 38 83 74 0.75...\n",
       "1  2fd875eaa  0.8632 393 794 72 89 0.8632 0 911 103 80 0.855...\n",
       "2  cc3532ff6  0.8349 770 826 165 163 0.8285 910 123 113 96 0...\n",
       "3  53f253011  0.8218 15 33 143 108 0.8100 931 200 92 135 0.8...\n",
       "4  f5a1f0358  0.8232 942 432 81 186 0.7988 687 204 114 93 0...."
      ]
     },
     "execution_count": 16,
     "metadata": {},
     "output_type": "execute_result"
    }
   ],
   "source": [
    "results = detect()\n",
    "test_df = pd.DataFrame(results, columns=['image_id', 'PredictionString'])\n",
    "test_df.to_csv('submission.csv', index=False)\n",
    "test_df.head()"
   ]
  }
 ],
 "metadata": {
  "kernelspec": {
   "display_name": "Python 3",
   "language": "python",
   "name": "python3"
  },
  "language_info": {
   "codemirror_mode": {
    "name": "ipython",
    "version": 3
   },
   "file_extension": ".py",
   "mimetype": "text/x-python",
   "name": "python",
   "nbconvert_exporter": "python",
   "pygments_lexer": "ipython3",
   "version": "3.7.6"
  },
  "papermill": {
   "duration": 130.733033,
   "end_time": "2020-12-29T17:51:26.758165",
   "environment_variables": {},
   "exception": null,
   "input_path": "__notebook__.ipynb",
   "output_path": "__notebook__.ipynb",
   "parameters": {},
   "start_time": "2020-12-29T17:49:16.025132",
   "version": "2.1.0"
  },
  "widgets": {
   "application/vnd.jupyter.widget-state+json": {
    "state": {
     "011e8139cb5c4c40962904ae39fbbbb4": {
      "model_module": "@jupyter-widgets/base",
      "model_module_version": "1.2.0",
      "model_name": "LayoutModel",
      "state": {
       "_model_module": "@jupyter-widgets/base",
       "_model_module_version": "1.2.0",
       "_model_name": "LayoutModel",
       "_view_count": null,
       "_view_module": "@jupyter-widgets/base",
       "_view_module_version": "1.2.0",
       "_view_name": "LayoutView",
       "align_content": null,
       "align_items": null,
       "align_self": null,
       "border": null,
       "bottom": null,
       "display": null,
       "flex": null,
       "flex_flow": null,
       "grid_area": null,
       "grid_auto_columns": null,
       "grid_auto_flow": null,
       "grid_auto_rows": null,
       "grid_column": null,
       "grid_gap": null,
       "grid_row": null,
       "grid_template_areas": null,
       "grid_template_columns": null,
       "grid_template_rows": null,
       "height": null,
       "justify_content": null,
       "justify_items": null,
       "left": null,
       "margin": null,
       "max_height": null,
       "max_width": null,
       "min_height": null,
       "min_width": null,
       "object_fit": null,
       "object_position": null,
       "order": null,
       "overflow": null,
       "overflow_x": null,
       "overflow_y": null,
       "padding": null,
       "right": null,
       "top": null,
       "visibility": null,
       "width": null
      }
     },
     "09365d788bf6431ea114918f7f61eb92": {
      "model_module": "@jupyter-widgets/base",
      "model_module_version": "1.2.0",
      "model_name": "LayoutModel",
      "state": {
       "_model_module": "@jupyter-widgets/base",
       "_model_module_version": "1.2.0",
       "_model_name": "LayoutModel",
       "_view_count": null,
       "_view_module": "@jupyter-widgets/base",
       "_view_module_version": "1.2.0",
       "_view_name": "LayoutView",
       "align_content": null,
       "align_items": null,
       "align_self": null,
       "border": null,
       "bottom": null,
       "display": null,
       "flex": null,
       "flex_flow": null,
       "grid_area": null,
       "grid_auto_columns": null,
       "grid_auto_flow": null,
       "grid_auto_rows": null,
       "grid_column": null,
       "grid_gap": null,
       "grid_row": null,
       "grid_template_areas": null,
       "grid_template_columns": null,
       "grid_template_rows": null,
       "height": null,
       "justify_content": null,
       "justify_items": null,
       "left": null,
       "margin": null,
       "max_height": null,
       "max_width": null,
       "min_height": null,
       "min_width": null,
       "object_fit": null,
       "object_position": null,
       "order": null,
       "overflow": null,
       "overflow_x": null,
       "overflow_y": null,
       "padding": null,
       "right": null,
       "top": null,
       "visibility": null,
       "width": null
      }
     },
     "1b902a0f529a4797928ce0eed51a4709": {
      "model_module": "@jupyter-widgets/controls",
      "model_module_version": "1.5.0",
      "model_name": "ProgressStyleModel",
      "state": {
       "_model_module": "@jupyter-widgets/controls",
       "_model_module_version": "1.5.0",
       "_model_name": "ProgressStyleModel",
       "_view_count": null,
       "_view_module": "@jupyter-widgets/base",
       "_view_module_version": "1.2.0",
       "_view_name": "StyleView",
       "bar_color": null,
       "description_width": "initial"
      }
     },
     "27bc713baf69472b8a5b15a5ba0224b4": {
      "model_module": "@jupyter-widgets/controls",
      "model_module_version": "1.5.0",
      "model_name": "DescriptionStyleModel",
      "state": {
       "_model_module": "@jupyter-widgets/controls",
       "_model_module_version": "1.5.0",
       "_model_name": "DescriptionStyleModel",
       "_view_count": null,
       "_view_module": "@jupyter-widgets/base",
       "_view_module_version": "1.2.0",
       "_view_name": "StyleView",
       "description_width": ""
      }
     },
     "2dbb8d6f9c9a44a4933524c260f14c86": {
      "model_module": "@jupyter-widgets/controls",
      "model_module_version": "1.5.0",
      "model_name": "HTMLModel",
      "state": {
       "_dom_classes": [],
       "_model_module": "@jupyter-widgets/controls",
       "_model_module_version": "1.5.0",
       "_model_name": "HTMLModel",
       "_view_count": null,
       "_view_module": "@jupyter-widgets/controls",
       "_view_module_version": "1.5.0",
       "_view_name": "HTMLView",
       "description": "",
       "description_tooltip": null,
       "layout": "IPY_MODEL_011e8139cb5c4c40962904ae39fbbbb4",
       "placeholder": "​",
       "style": "IPY_MODEL_27bc713baf69472b8a5b15a5ba0224b4",
       "value": " 3373/3373 [00:22&lt;00:00, 152.60it/s]"
      }
     },
     "469111b509f94387b926819b945becb6": {
      "model_module": "@jupyter-widgets/controls",
      "model_module_version": "1.5.0",
      "model_name": "HBoxModel",
      "state": {
       "_dom_classes": [],
       "_model_module": "@jupyter-widgets/controls",
       "_model_module_version": "1.5.0",
       "_model_name": "HBoxModel",
       "_view_count": null,
       "_view_module": "@jupyter-widgets/controls",
       "_view_module_version": "1.5.0",
       "_view_name": "HBoxView",
       "box_style": "",
       "children": [
        "IPY_MODEL_b4225de13fc44ed5891ee111819d9ac4",
        "IPY_MODEL_2dbb8d6f9c9a44a4933524c260f14c86"
       ],
       "layout": "IPY_MODEL_8b9761c1ef714b34b8ee9f65b822ae12"
      }
     },
     "61019b6bbe694377af65cb9a7a5f574e": {
      "model_module": "@jupyter-widgets/controls",
      "model_module_version": "1.5.0",
      "model_name": "DescriptionStyleModel",
      "state": {
       "_model_module": "@jupyter-widgets/controls",
       "_model_module_version": "1.5.0",
       "_model_name": "DescriptionStyleModel",
       "_view_count": null,
       "_view_module": "@jupyter-widgets/base",
       "_view_module_version": "1.2.0",
       "_view_name": "StyleView",
       "description_width": ""
      }
     },
     "8b9761c1ef714b34b8ee9f65b822ae12": {
      "model_module": "@jupyter-widgets/base",
      "model_module_version": "1.2.0",
      "model_name": "LayoutModel",
      "state": {
       "_model_module": "@jupyter-widgets/base",
       "_model_module_version": "1.2.0",
       "_model_name": "LayoutModel",
       "_view_count": null,
       "_view_module": "@jupyter-widgets/base",
       "_view_module_version": "1.2.0",
       "_view_name": "LayoutView",
       "align_content": null,
       "align_items": null,
       "align_self": null,
       "border": null,
       "bottom": null,
       "display": null,
       "flex": null,
       "flex_flow": null,
       "grid_area": null,
       "grid_auto_columns": null,
       "grid_auto_flow": null,
       "grid_auto_rows": null,
       "grid_column": null,
       "grid_gap": null,
       "grid_row": null,
       "grid_template_areas": null,
       "grid_template_columns": null,
       "grid_template_rows": null,
       "height": null,
       "justify_content": null,
       "justify_items": null,
       "left": null,
       "margin": null,
       "max_height": null,
       "max_width": null,
       "min_height": null,
       "min_width": null,
       "object_fit": null,
       "object_position": null,
       "order": null,
       "overflow": null,
       "overflow_x": null,
       "overflow_y": null,
       "padding": null,
       "right": null,
       "top": null,
       "visibility": null,
       "width": null
      }
     },
     "8eb37111c3f346488c7c13d51ef3a9f6": {
      "model_module": "@jupyter-widgets/base",
      "model_module_version": "1.2.0",
      "model_name": "LayoutModel",
      "state": {
       "_model_module": "@jupyter-widgets/base",
       "_model_module_version": "1.2.0",
       "_model_name": "LayoutModel",
       "_view_count": null,
       "_view_module": "@jupyter-widgets/base",
       "_view_module_version": "1.2.0",
       "_view_name": "LayoutView",
       "align_content": null,
       "align_items": null,
       "align_self": null,
       "border": null,
       "bottom": null,
       "display": null,
       "flex": null,
       "flex_flow": null,
       "grid_area": null,
       "grid_auto_columns": null,
       "grid_auto_flow": null,
       "grid_auto_rows": null,
       "grid_column": null,
       "grid_gap": null,
       "grid_row": null,
       "grid_template_areas": null,
       "grid_template_columns": null,
       "grid_template_rows": null,
       "height": null,
       "justify_content": null,
       "justify_items": null,
       "left": null,
       "margin": null,
       "max_height": null,
       "max_width": null,
       "min_height": null,
       "min_width": null,
       "object_fit": null,
       "object_position": null,
       "order": null,
       "overflow": null,
       "overflow_x": null,
       "overflow_y": null,
       "padding": null,
       "right": null,
       "top": null,
       "visibility": null,
       "width": null
      }
     },
     "98bb324c4ace450bbfb22ac13b4907a1": {
      "model_module": "@jupyter-widgets/base",
      "model_module_version": "1.2.0",
      "model_name": "LayoutModel",
      "state": {
       "_model_module": "@jupyter-widgets/base",
       "_model_module_version": "1.2.0",
       "_model_name": "LayoutModel",
       "_view_count": null,
       "_view_module": "@jupyter-widgets/base",
       "_view_module_version": "1.2.0",
       "_view_name": "LayoutView",
       "align_content": null,
       "align_items": null,
       "align_self": null,
       "border": null,
       "bottom": null,
       "display": null,
       "flex": null,
       "flex_flow": null,
       "grid_area": null,
       "grid_auto_columns": null,
       "grid_auto_flow": null,
       "grid_auto_rows": null,
       "grid_column": null,
       "grid_gap": null,
       "grid_row": null,
       "grid_template_areas": null,
       "grid_template_columns": null,
       "grid_template_rows": null,
       "height": null,
       "justify_content": null,
       "justify_items": null,
       "left": null,
       "margin": null,
       "max_height": null,
       "max_width": null,
       "min_height": null,
       "min_width": null,
       "object_fit": null,
       "object_position": null,
       "order": null,
       "overflow": null,
       "overflow_x": null,
       "overflow_y": null,
       "padding": null,
       "right": null,
       "top": null,
       "visibility": null,
       "width": null
      }
     },
     "9b3a31e18bde4c00aeb20ca155270287": {
      "model_module": "@jupyter-widgets/controls",
      "model_module_version": "1.5.0",
      "model_name": "FloatProgressModel",
      "state": {
       "_dom_classes": [],
       "_model_module": "@jupyter-widgets/controls",
       "_model_module_version": "1.5.0",
       "_model_name": "FloatProgressModel",
       "_view_count": null,
       "_view_module": "@jupyter-widgets/controls",
       "_view_module_version": "1.5.0",
       "_view_name": "ProgressView",
       "bar_style": "success",
       "description": "100%",
       "description_tooltip": null,
       "layout": "IPY_MODEL_8eb37111c3f346488c7c13d51ef3a9f6",
       "max": 3373.0,
       "min": 0.0,
       "orientation": "horizontal",
       "style": "IPY_MODEL_1b902a0f529a4797928ce0eed51a4709",
       "value": 3373.0
      }
     },
     "9be4a4cf23cd4ef686ce2e19c94214ce": {
      "model_module": "@jupyter-widgets/controls",
      "model_module_version": "1.5.0",
      "model_name": "HTMLModel",
      "state": {
       "_dom_classes": [],
       "_model_module": "@jupyter-widgets/controls",
       "_model_module_version": "1.5.0",
       "_model_name": "HTMLModel",
       "_view_count": null,
       "_view_module": "@jupyter-widgets/controls",
       "_view_module_version": "1.5.0",
       "_view_name": "HTMLView",
       "description": "",
       "description_tooltip": null,
       "layout": "IPY_MODEL_98bb324c4ace450bbfb22ac13b4907a1",
       "placeholder": "​",
       "style": "IPY_MODEL_61019b6bbe694377af65cb9a7a5f574e",
       "value": " 3373/3373 [01:24&lt;00:00, 39.79it/s]"
      }
     },
     "ae0605cf8a414141b148b7dd7b43bbc1": {
      "model_module": "@jupyter-widgets/base",
      "model_module_version": "1.2.0",
      "model_name": "LayoutModel",
      "state": {
       "_model_module": "@jupyter-widgets/base",
       "_model_module_version": "1.2.0",
       "_model_name": "LayoutModel",
       "_view_count": null,
       "_view_module": "@jupyter-widgets/base",
       "_view_module_version": "1.2.0",
       "_view_name": "LayoutView",
       "align_content": null,
       "align_items": null,
       "align_self": null,
       "border": null,
       "bottom": null,
       "display": null,
       "flex": null,
       "flex_flow": null,
       "grid_area": null,
       "grid_auto_columns": null,
       "grid_auto_flow": null,
       "grid_auto_rows": null,
       "grid_column": null,
       "grid_gap": null,
       "grid_row": null,
       "grid_template_areas": null,
       "grid_template_columns": null,
       "grid_template_rows": null,
       "height": null,
       "justify_content": null,
       "justify_items": null,
       "left": null,
       "margin": null,
       "max_height": null,
       "max_width": null,
       "min_height": null,
       "min_width": null,
       "object_fit": null,
       "object_position": null,
       "order": null,
       "overflow": null,
       "overflow_x": null,
       "overflow_y": null,
       "padding": null,
       "right": null,
       "top": null,
       "visibility": null,
       "width": null
      }
     },
     "b4225de13fc44ed5891ee111819d9ac4": {
      "model_module": "@jupyter-widgets/controls",
      "model_module_version": "1.5.0",
      "model_name": "FloatProgressModel",
      "state": {
       "_dom_classes": [],
       "_model_module": "@jupyter-widgets/controls",
       "_model_module_version": "1.5.0",
       "_model_name": "FloatProgressModel",
       "_view_count": null,
       "_view_module": "@jupyter-widgets/controls",
       "_view_module_version": "1.5.0",
       "_view_name": "ProgressView",
       "bar_style": "success",
       "description": "100%",
       "description_tooltip": null,
       "layout": "IPY_MODEL_09365d788bf6431ea114918f7f61eb92",
       "max": 3373.0,
       "min": 0.0,
       "orientation": "horizontal",
       "style": "IPY_MODEL_cd2d8967ed1240ad9e007a1aa4ef1ef9",
       "value": 3373.0
      }
     },
     "c924b66e140346829e6b67c8de8c06dc": {
      "model_module": "@jupyter-widgets/controls",
      "model_module_version": "1.5.0",
      "model_name": "HBoxModel",
      "state": {
       "_dom_classes": [],
       "_model_module": "@jupyter-widgets/controls",
       "_model_module_version": "1.5.0",
       "_model_name": "HBoxModel",
       "_view_count": null,
       "_view_module": "@jupyter-widgets/controls",
       "_view_module_version": "1.5.0",
       "_view_name": "HBoxView",
       "box_style": "",
       "children": [
        "IPY_MODEL_9b3a31e18bde4c00aeb20ca155270287",
        "IPY_MODEL_9be4a4cf23cd4ef686ce2e19c94214ce"
       ],
       "layout": "IPY_MODEL_ae0605cf8a414141b148b7dd7b43bbc1"
      }
     },
     "cd2d8967ed1240ad9e007a1aa4ef1ef9": {
      "model_module": "@jupyter-widgets/controls",
      "model_module_version": "1.5.0",
      "model_name": "ProgressStyleModel",
      "state": {
       "_model_module": "@jupyter-widgets/controls",
       "_model_module_version": "1.5.0",
       "_model_name": "ProgressStyleModel",
       "_view_count": null,
       "_view_module": "@jupyter-widgets/base",
       "_view_module_version": "1.2.0",
       "_view_name": "StyleView",
       "bar_color": null,
       "description_width": "initial"
      }
     }
    },
    "version_major": 2,
    "version_minor": 0
   }
  }
 },
 "nbformat": 4,
 "nbformat_minor": 4
}
